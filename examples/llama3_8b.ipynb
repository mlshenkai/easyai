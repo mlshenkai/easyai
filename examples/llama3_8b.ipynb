{
 "cells": [
  {
   "cell_type": "code",
   "id": "initial_id",
   "metadata": {
    "collapsed": true,
    "ExecuteTime": {
     "end_time": "2024-06-21T07:34:21.917722Z",
     "start_time": "2024-06-21T07:34:21.908745Z"
    }
   },
   "source": [
    "import sys\n",
    "sys.path.append('/code-online/code/easy_ai')\n"
   ],
   "outputs": [],
   "execution_count": 1
  },
  {
   "metadata": {
    "ExecuteTime": {
     "end_time": "2024-06-21T07:34:31.864944Z",
     "start_time": "2024-06-21T07:34:22.589572Z"
    }
   },
   "cell_type": "code",
   "source": "from easyai import cli",
   "id": "c8d158213336fa63",
   "outputs": [
    {
     "name": "stdout",
     "output_type": "stream",
     "text": [
      "[2024-06-21 15:34:29,031] [INFO] [real_accelerator.py:191:get_accelerator] Setting ds_accelerator to cuda (auto detect)\n"
     ]
    }
   ],
   "execution_count": 2
  },
  {
   "metadata": {
    "ExecuteTime": {
     "end_time": "2024-06-21T06:42:53.080784Z",
     "start_time": "2024-06-21T06:42:53.077066Z"
    }
   },
   "cell_type": "code",
   "source": [
    "from easyai.common import get_logger\n",
    "cli.main() \n"
   ],
   "id": "6316898496f48805",
   "outputs": [],
   "execution_count": 3
  },
  {
   "metadata": {
    "ExecuteTime": {
     "end_time": "2024-06-21T06:44:21.910976Z",
     "start_time": "2024-06-21T06:44:21.895514Z"
    }
   },
   "cell_type": "code",
   "source": "sys.executable\n",
   "id": "6b6c9f4ccb9e19ca",
   "outputs": [
    {
     "data": {
      "text/plain": [
       "'/opt/conda/envs/unilm_env/bin/python'"
      ]
     },
     "execution_count": 4,
     "metadata": {},
     "output_type": "execute_result"
    }
   ],
   "execution_count": 4
  },
  {
   "metadata": {},
   "cell_type": "code",
   "outputs": [],
   "execution_count": null,
   "source": "",
   "id": "d9348c93cc81361b"
  }
 ],
 "metadata": {
  "kernelspec": {
   "display_name": "Python 3",
   "language": "python",
   "name": "python3"
  },
  "language_info": {
   "codemirror_mode": {
    "name": "ipython",
    "version": 2
   },
   "file_extension": ".py",
   "mimetype": "text/x-python",
   "name": "python",
   "nbconvert_exporter": "python",
   "pygments_lexer": "ipython2",
   "version": "2.7.6"
  }
 },
 "nbformat": 4,
 "nbformat_minor": 5
}
