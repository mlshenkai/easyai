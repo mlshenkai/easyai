{
 "cells": [
  {
   "cell_type": "code",
   "id": "initial_id",
   "metadata": {
    "collapsed": true,
    "ExecuteTime": {
     "end_time": "2024-06-24T08:48:03.422271Z",
     "start_time": "2024-06-24T08:48:03.413769Z"
    }
   },
   "source": [
    "import sys\n",
    "sys.path.append('/code-online/code/easy_ai')\n",
    "import os\n",
    "os.environ[\"GRADIO_SERVER_PORT\"] = \"7474\"\n",
    "os.environ[\"CUDA_VISIBLE_DEVICES\"] = \"0\""
   ],
   "outputs": [],
   "execution_count": 9
  },
  {
   "metadata": {
    "ExecuteTime": {
     "end_time": "2024-06-24T08:48:03.942852Z",
     "start_time": "2024-06-24T08:48:03.936679Z"
    }
   },
   "cell_type": "code",
   "source": "from easyai import cli",
   "id": "c8d158213336fa63",
   "outputs": [],
   "execution_count": 10
  },
  {
   "metadata": {
    "ExecuteTime": {
     "end_time": "2024-06-24T08:48:04.503829Z",
     "start_time": "2024-06-24T08:48:04.494774Z"
    }
   },
   "cell_type": "code",
   "source": "os.getenv(\"GRADIO_SERVER_PORT\")",
   "id": "6316898496f48805",
   "outputs": [
    {
     "data": {
      "text/plain": [
       "'7474'"
      ]
     },
     "execution_count": 11,
     "metadata": {},
     "output_type": "execute_result"
    }
   ],
   "execution_count": 11
  },
  {
   "metadata": {
    "ExecuteTime": {
     "end_time": "2024-06-24T05:49:33.960503Z",
     "start_time": "2024-06-24T05:49:33.478790Z"
    }
   },
   "cell_type": "code",
   "source": "cli.run_web_ui()",
   "id": "6b6c9f4ccb9e19ca",
   "outputs": [
    {
     "name": "stdout",
     "output_type": "stream",
     "text": [
      "Running on local URL:  http://0.0.0.0:7476\n",
      "\n",
      "To create a public link, set `share=True` in `launch()`.\n"
     ]
    },
    {
     "data": {
      "text/plain": [
       "<IPython.core.display.HTML object>"
      ],
      "text/html": [
       "<div><iframe src=\"http://localhost:7476/\" width=\"100%\" height=\"500\" allow=\"autoplay; camera; microphone; clipboard-read; clipboard-write;\" frameborder=\"0\" allowfullscreen></iframe></div>"
      ]
     },
     "metadata": {},
     "output_type": "display_data"
    }
   ],
   "execution_count": 8
  },
  {
   "metadata": {},
   "cell_type": "code",
   "outputs": [],
   "execution_count": null,
   "source": "\n",
   "id": "d9348c93cc81361b"
  }
 ],
 "metadata": {
  "kernelspec": {
   "display_name": "Python 3",
   "language": "python",
   "name": "python3"
  },
  "language_info": {
   "codemirror_mode": {
    "name": "ipython",
    "version": 2
   },
   "file_extension": ".py",
   "mimetype": "text/x-python",
   "name": "python",
   "nbconvert_exporter": "python",
   "pygments_lexer": "ipython2",
   "version": "2.7.6"
  }
 },
 "nbformat": 4,
 "nbformat_minor": 5
}
